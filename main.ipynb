{
 "cells": [
  {
   "cell_type": "code",
   "id": "initial_id",
   "metadata": {
    "collapsed": true,
    "ExecuteTime": {
     "end_time": "2025-05-09T12:59:12.749047Z",
     "start_time": "2025-05-09T12:59:12.734537Z"
    }
   },
   "source": [
    "import pandas as pd\n",
    "import numpy as np\n",
    "import joblib\n",
    "\n",
    "from sklearn.model_selection import train_test_split\n",
    "from sklearn.preprocessing   import StandardScaler, OneHotEncoder\n",
    "from sklearn.compose         import ColumnTransformer\n",
    "from sklearn.pipeline        import Pipeline\n",
    "from imblearn.over_sampling  import SMOTE\n",
    "from imblearn.pipeline       import Pipeline as ImbPipeline\n",
    "from xgboost                 import XGBClassifier\n",
    "from sklearn.calibration     import CalibratedClassifierCV\n",
    "from sklearn.metrics         import roc_auc_score, precision_recall_curve"
   ],
   "outputs": [],
   "execution_count": 132
  },
  {
   "metadata": {
    "ExecuteTime": {
     "end_time": "2025-05-09T12:59:12.834120Z",
     "start_time": "2025-05-09T12:59:12.750242Z"
    }
   },
   "cell_type": "code",
   "source": [
    "# 1. Data load & basic cleaning\n",
    "df = pd.read_csv(\"data/diabetes_prediction_dataset.csv\")\n",
    "df = df[df.gender != \"Other\"].copy()\n",
    "df[\"is_male\"] = (df.gender == \"Male\").astype(int)\n",
    "df.drop(\"gender\", axis=1, inplace=True)\n",
    "\n",
    "# 2. Feature groups\n",
    "num_cols = [\"age\", \"bmi\", \"HbA1c_level\", \"blood_glucose_level\"]\n",
    "cat_cols = [\"smoking_history\"]\n",
    "bin_cols = [\"is_male\", \"hypertension\", \"heart_disease\"]\n",
    "\n",
    "preproc = ColumnTransformer([\n",
    "    (\"num\", StandardScaler(),                num_cols),\n",
    "    (\"cat\", OneHotEncoder(drop=\"first\", handle_unknown=\"ignore\"), cat_cols),\n",
    "    (\"bin\", \"passthrough\",                   bin_cols)\n",
    "], remainder=\"drop\")"
   ],
   "id": "1ef1360b59d17627",
   "outputs": [],
   "execution_count": 133
  },
  {
   "metadata": {
    "ExecuteTime": {
     "end_time": "2025-05-09T12:59:12.951392Z",
     "start_time": "2025-05-09T12:59:12.895541Z"
    }
   },
   "cell_type": "code",
   "source": [
    "# 3. Train-test split\n",
    "X = df.drop(\"diabetes\", axis=1)\n",
    "y = df[\"diabetes\"]\n",
    "X_train, X_test, y_train, y_test = train_test_split(\n",
    "    X, y, test_size=0.2, stratify=y, random_state=42\n",
    ")"
   ],
   "id": "47c26c324e6e053d",
   "outputs": [],
   "execution_count": 134
  },
  {
   "metadata": {
    "ExecuteTime": {
     "end_time": "2025-05-09T12:59:13.031676Z",
     "start_time": "2025-05-09T12:59:13.016016Z"
    }
   },
   "cell_type": "code",
   "source": [
    "# 4. SMOTE + XGBoost\n",
    "smote = SMOTE(sampling_strategy=1.0, random_state=42)\n",
    "\n",
    "xgb = XGBClassifier(\n",
    "    objective=\"binary:logistic\",\n",
    "    eval_metric=\"auc\",\n",
    "    n_estimators=400,\n",
    "    learning_rate=0.05,\n",
    "    max_depth=5,\n",
    "    subsample=0.8,\n",
    "    colsample_bytree=0.8,\n",
    "    min_child_weight=1,\n",
    "    scale_pos_weight=(y_train == 0).sum() / (y_train == 1).sum(),\n",
    "    n_jobs=-1,\n",
    "    random_state=42\n",
    ")\n",
    "\n",
    "imb_pipe = ImbPipeline([\n",
    "    (\"preprocessor\", preproc),\n",
    "    (\"smote\",        smote),\n",
    "    (\"clf\",          xgb)\n",
    "])"
   ],
   "id": "c87c8f5c211e2b5c",
   "outputs": [],
   "execution_count": 135
  },
  {
   "metadata": {
    "ExecuteTime": {
     "end_time": "2025-05-09T12:59:17.949435Z",
     "start_time": "2025-05-09T12:59:13.101253Z"
    }
   },
   "cell_type": "code",
   "source": [
    "# 5. Isotonic calibration (5-fold CV)\n",
    "clf = CalibratedClassifierCV(imb_pipe, cv=5, method=\"isotonic\")\n",
    "clf.fit(X_train, y_train)\n",
    "\n",
    "# 6. Evaluation\n",
    "proba = clf.predict_proba(X_test)[:, 1]\n",
    "print(\"ROC-AUC:\", roc_auc_score(y_test, proba))\n"
   ],
   "id": "6749d04e5b027e28",
   "outputs": [
    {
     "name": "stdout",
     "output_type": "stream",
     "text": [
      "ROC-AUC: 0.9781757536593912\n"
     ]
    }
   ],
   "execution_count": 136
  },
  {
   "metadata": {
    "ExecuteTime": {
     "end_time": "2025-05-09T12:59:18.048940Z",
     "start_time": "2025-05-09T12:59:18.033280Z"
    }
   },
   "cell_type": "code",
   "source": [
    "# 7. Choose threshold for recall ≥ 0.85 and best precision\n",
    "precision, recall, thr = precision_recall_curve(y_test, proba)\n",
    "mask = np.where(recall[:-1] >= 0.85)[0]\n",
    "opt_idx = mask[np.argmax(precision[mask])]\n",
    "best_thr = thr[opt_idx]\n",
    "print(f\"Chosen threshold = {best_thr:.4f}  |  P={precision[opt_idx]:.3f}  R={recall[opt_idx]:.3f}\")"
   ],
   "id": "56d319c2b4c3739c",
   "outputs": [
    {
     "name": "stdout",
     "output_type": "stream",
     "text": [
      "Chosen threshold = 0.1443  |  P=0.598  R=0.850\n"
     ]
    }
   ],
   "execution_count": 137
  },
  {
   "metadata": {
    "ExecuteTime": {
     "end_time": "2025-05-09T12:59:18.308339Z",
     "start_time": "2025-05-09T12:59:18.245436Z"
    }
   },
   "cell_type": "code",
   "source": [
    "# 8. Save artefacts\n",
    "joblib.dump(clf, \"models/diabetes_xgb_calibrated.joblib\")\n",
    "np.save(\"models/opt_threshold.npy\", np.array([best_thr]), allow_pickle=False)\n",
    "print(\"Artifacts saved: diabetes_xgb_calibrated.joblib , opt_threshold.npy\")"
   ],
   "id": "5013d91a2efef408",
   "outputs": [
    {
     "name": "stdout",
     "output_type": "stream",
     "text": [
      "Artifacts saved: diabetes_xgb_calibrated.joblib , opt_threshold.npy\n"
     ]
    }
   ],
   "execution_count": 138
  }
 ],
 "metadata": {
  "kernelspec": {
   "display_name": "Python 3",
   "language": "python",
   "name": "python3"
  },
  "language_info": {
   "codemirror_mode": {
    "name": "ipython",
    "version": 2
   },
   "file_extension": ".py",
   "mimetype": "text/x-python",
   "name": "python",
   "nbconvert_exporter": "python",
   "pygments_lexer": "ipython2",
   "version": "2.7.6"
  }
 },
 "nbformat": 4,
 "nbformat_minor": 5
}
