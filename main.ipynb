{
 "cells": [
  {
   "cell_type": "code",
   "id": "initial_id",
   "metadata": {
    "collapsed": true,
    "ExecuteTime": {
     "end_time": "2025-05-09T18:50:12.461549Z",
     "start_time": "2025-05-09T18:50:10.672678Z"
    }
   },
   "source": [
    "import pandas as pd\n",
    "import numpy as np\n",
    "import joblib\n",
    "\n",
    "from sklearn.model_selection import train_test_split\n",
    "from sklearn.preprocessing   import StandardScaler, OneHotEncoder\n",
    "from sklearn.compose         import ColumnTransformer\n",
    "from sklearn.pipeline        import Pipeline\n",
    "from imblearn.over_sampling  import SMOTE\n",
    "from imblearn.pipeline       import Pipeline as ImbPipeline\n",
    "from xgboost                 import XGBClassifier\n",
    "from sklearn.calibration     import CalibratedClassifierCV\n",
    "from sklearn.metrics         import roc_auc_score, precision_recall_curve"
   ],
   "outputs": [],
   "execution_count": 2
  },
  {
   "metadata": {
    "ExecuteTime": {
     "end_time": "2025-05-09T18:50:12.541063Z",
     "start_time": "2025-05-09T18:50:12.465992Z"
    }
   },
   "cell_type": "code",
   "source": [
    "# 1. Data load & basic cleaning\n",
    "df = pd.read_csv(\"data/diabetes_prediction_dataset.csv\")\n",
    "df = df[df.gender != \"Other\"].copy()\n",
    "df[\"is_male\"] = (df.gender == \"Male\").astype(int)\n",
    "df.drop(\"gender\", axis=1, inplace=True)\n",
    "\n",
    "# 2. Feature groups\n",
    "num_cols = [\"age\", \"bmi\", \"HbA1c_level\", \"blood_glucose_level\"]\n",
    "cat_cols = [\"smoking_history\"]\n",
    "bin_cols = [\"is_male\", \"hypertension\", \"heart_disease\"]\n",
    "\n",
    "preproc = ColumnTransformer([\n",
    "    (\"num\", StandardScaler(),                num_cols),\n",
    "    (\"cat\", OneHotEncoder(drop=\"first\", handle_unknown=\"ignore\"), cat_cols),\n",
    "    (\"bin\", \"passthrough\",                   bin_cols)\n",
    "], remainder=\"drop\")"
   ],
   "id": "1ef1360b59d17627",
   "outputs": [],
   "execution_count": 3
  },
  {
   "metadata": {
    "ExecuteTime": {
     "end_time": "2025-05-09T18:50:12.627725Z",
     "start_time": "2025-05-09T18:50:12.591819Z"
    }
   },
   "cell_type": "code",
   "source": [
    "# 3. Train-test split\n",
    "X = df.drop(\"diabetes\", axis=1)\n",
    "y = df[\"diabetes\"]\n",
    "X_train, X_test, y_train, y_test = train_test_split(\n",
    "    X, y, test_size=0.2, stratify=y, random_state=42\n",
    ")"
   ],
   "id": "47c26c324e6e053d",
   "outputs": [],
   "execution_count": 4
  },
  {
   "metadata": {
    "ExecuteTime": {
     "end_time": "2025-05-09T18:50:12.642592Z",
     "start_time": "2025-05-09T18:50:12.639565Z"
    }
   },
   "cell_type": "code",
   "source": [
    "# ----------------- до\n",
    "# (\"clf\", xgb)\n",
    "# ----------------- после\n",
    "\n",
    "smote = SMOTE(sampling_strategy=1.0, random_state=42)\n",
    "\n",
    "xgb = XGBClassifier(\n",
    "    objective       = \"binary:logistic\",   # ← только binary:logistic!\n",
    "    eval_metric     = \"logloss\",\n",
    "    n_estimators    = 400,\n",
    "    learning_rate   = 0.05,\n",
    "    max_depth       = 5,\n",
    "    subsample       = 0.8,\n",
    "    colsample_bytree= 0.8,\n",
    "    min_child_weight= 1,\n",
    "    # scale_pos_weight убираем, т.к. SMOTE уже балансирует классы\n",
    "    n_jobs          = -1,\n",
    "    random_state    = 42,\n",
    ")\n",
    "\n",
    "imb_pipe = ImbPipeline([\n",
    "    (\"preprocessor\", preproc),\n",
    "    (\"smote\",        smote),\n",
    "    (\"clf\",          xgb)          # название шага «clf» допустимо\n",
    "])\n"
   ],
   "id": "c87c8f5c211e2b5c",
   "outputs": [],
   "execution_count": 5
  },
  {
   "metadata": {
    "ExecuteTime": {
     "end_time": "2025-05-09T18:50:16.915985Z",
     "start_time": "2025-05-09T18:50:12.661209Z"
    }
   },
   "cell_type": "code",
   "source": [
    "calibrated_clf = CalibratedClassifierCV(\n",
    "    imb_pipe,\n",
    "    method         = \"isotonic\",   # или 'sigmoid'\n",
    "    cv             = 5,\n",
    ")\n",
    "\n",
    "calibrated_clf.fit(X_train, y_train)\n",
    "\n",
    "proba = calibrated_clf.predict_proba(X_test)[:, 1]\n",
    "\n",
    "# 2. выбираем порог\n",
    "precision, recall, thr = precision_recall_curve(y_test, proba)\n",
    "mask     = np.where(recall[:-1] >= 0.85)[0]\n",
    "opt_idx  = mask[np.argmax(precision[mask])]\n",
    "best_thr = thr[opt_idx]\n",
    "\n",
    "# 3. сохраняем ОДИН раз\n",
    "joblib.dump(calibrated_clf, \"models/diabetes_xgb_calibrated.joblib\")\n",
    "np.save(\"models/opt_threshold.npy\", np.array([best_thr]), allow_pickle=False)"
   ],
   "id": "6749d04e5b027e28",
   "outputs": [],
   "execution_count": 6
  }
 ],
 "metadata": {
  "kernelspec": {
   "display_name": "Python 3",
   "language": "python",
   "name": "python3"
  },
  "language_info": {
   "codemirror_mode": {
    "name": "ipython",
    "version": 2
   },
   "file_extension": ".py",
   "mimetype": "text/x-python",
   "name": "python",
   "nbconvert_exporter": "python",
   "pygments_lexer": "ipython2",
   "version": "2.7.6"
  }
 },
 "nbformat": 4,
 "nbformat_minor": 5
}
